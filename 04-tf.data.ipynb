{
 "cells": [
  {
   "cell_type": "markdown",
   "metadata": {},
   "source": [
    "# Using tf.data\n",
    "\n",
    "https://www.tensorflow.org/programmers_guide/datasets"
   ]
  },
  {
   "cell_type": "code",
   "execution_count": 1,
   "metadata": {},
   "outputs": [
    {
     "name": "stderr",
     "output_type": "stream",
     "text": [
      "/Users/tjw/anaconda3/envs/keras/lib/python3.6/site-packages/h5py/__init__.py:36: FutureWarning: Conversion of the second argument of issubdtype from `float` to `np.floating` is deprecated. In future, it will be treated as `np.float64 == np.dtype(float).type`.\n",
      "  from ._conv import register_converters as _register_converters\n"
     ]
    }
   ],
   "source": [
    "from PIL import Image\n",
    "import numpy as np\n",
    "import tensorflow as tf"
   ]
  },
  {
   "cell_type": "code",
   "execution_count": 2,
   "metadata": {},
   "outputs": [
    {
     "name": "stdout",
     "output_type": "stream",
     "text": [
      "<dtype: 'int64'>\n",
      "()\n",
      "0\n",
      "1\n",
      "2\n",
      "3\n",
      "4\n",
      "5\n",
      "6\n",
      "7\n",
      "8\n",
      "9\n"
     ]
    }
   ],
   "source": [
    "dataset = tf.data.Dataset.range(10)\n",
    "print(dataset.output_types)\n",
    "print(dataset.output_shapes)\n",
    "\n",
    "iterator = dataset.make_one_shot_iterator()\n",
    "next_element = iterator.get_next()\n",
    "with tf.Session() as sess:\n",
    "    for i in range(10):\n",
    "        print(sess.run(next_element))"
   ]
  },
  {
   "cell_type": "code",
   "execution_count": 11,
   "metadata": {},
   "outputs": [
    {
     "name": "stdout",
     "output_type": "stream",
     "text": [
      "<dtype: 'float32'>\n",
      "(3,)\n",
      "[0.83832157 0.8037684  0.8136611 ]\n",
      "[0.15484905 0.17452276 0.5419953 ]\n",
      "[0.509969   0.6895293  0.22684693]\n",
      "[0.48337054 0.3877033  0.37009656]\n",
      "[0.0836699  0.43567216 0.47110868]\n",
      "[0.91641974 0.9297267  0.9373778 ]\n",
      "[0.96969664 0.6759572  0.89000905]\n",
      "[0.9392942 0.9988909 0.3330177]\n",
      "[0.7647575  0.02365232 0.27215362]\n",
      "[0.21679962 0.77614367 0.6169944 ]\n"
     ]
    }
   ],
   "source": [
    "dataset = tf.data.Dataset.from_tensor_slices(tf.random_uniform([10, 3]))\n",
    "\n",
    "print(dataset.output_types)\n",
    "print(dataset.output_shapes)\n",
    "\n",
    "iterator = dataset.make_initializable_iterator()\n",
    "\n",
    "next_element = iterator.get_next()\n",
    "with tf.Session() as sess:\n",
    "    sess.run(iterator.initializer)\n",
    "    for i in range(10):\n",
    "        print(sess.run(next_element))"
   ]
  },
  {
   "cell_type": "markdown",
   "metadata": {},
   "source": [
    "## Q\n",
    "計算 $1+2+...+10$"
   ]
  },
  {
   "cell_type": "markdown",
   "metadata": {},
   "source": [
    "### make_initializable_iterator"
   ]
  },
  {
   "cell_type": "code",
   "execution_count": 3,
   "metadata": {},
   "outputs": [
    {
     "name": "stdout",
     "output_type": "stream",
     "text": [
      "0\n",
      "1\n",
      "2\n",
      "3\n",
      "4\n",
      "100\n",
      "101\n",
      "102\n",
      "103\n",
      "104\n"
     ]
    }
   ],
   "source": [
    "tf.reset_default_graph()\n",
    "min_value = tf.placeholder(tf.int64, shape=[])\n",
    "max_value = tf.placeholder(tf.int64, shape=[])\n",
    "dataset = tf.data.Dataset.range(min_value, max_value)\n",
    "iterator = dataset.make_initializable_iterator()\n",
    "next_element = iterator.get_next()\n",
    "\n",
    "with tf.Session() as sess:\n",
    "    # Initialize an iterator over a dataset with 10 elements.\n",
    "    sess.run(iterator.initializer, feed_dict={min_value: 0, max_value: 5})\n",
    "    for i in range(5):\n",
    "        print(sess.run(next_element))\n",
    "\n",
    "    # Initialize the same iterator over a dataset with 10 elements.\n",
    "    sess.run(iterator.initializer, feed_dict={min_value: 100, max_value: 105})\n",
    "    for i in range(5):\n",
    "        value = sess.run(next_element)\n",
    "        print(value)"
   ]
  },
  {
   "cell_type": "markdown",
   "metadata": {},
   "source": [
    "### Reinitializable (one interator with different datasets)"
   ]
  },
  {
   "cell_type": "code",
   "execution_count": 4,
   "metadata": {},
   "outputs": [
    {
     "name": "stdout",
     "output_type": "stream",
     "text": [
      "epoch 0\n",
      "train 0 9\n",
      "train 1 8\n",
      "train 2 8\n",
      "train 3 1\n",
      "train 4 7\n",
      "train 5 8\n",
      "train 6 8\n",
      "train 7 16\n",
      "train 8 13\n",
      "train 9 7\n",
      "validation 0 0\n",
      "validation 1 1\n",
      "validation 2 2\n",
      "validation 3 3\n",
      "validation 4 4\n",
      "epoch 1\n",
      "train 0 -7\n",
      "train 1 -5\n",
      "train 2 4\n",
      "train 3 12\n",
      "train 4 1\n",
      "train 5 13\n",
      "train 6 -2\n",
      "train 7 4\n",
      "train 8 14\n",
      "train 9 15\n",
      "validation 0 0\n",
      "validation 1 1\n",
      "validation 2 2\n",
      "validation 3 3\n",
      "validation 4 4\n",
      "epoch 2\n",
      "train 0 -9\n",
      "train 1 -1\n",
      "train 2 -1\n",
      "train 3 6\n",
      "train 4 3\n",
      "train 5 -3\n",
      "train 6 5\n",
      "train 7 15\n",
      "train 8 12\n",
      "train 9 16\n",
      "validation 0 0\n",
      "validation 1 1\n",
      "validation 2 2\n",
      "validation 3 3\n",
      "validation 4 4\n"
     ]
    }
   ],
   "source": [
    "# Define training and validation datasets with the same structure.\n",
    "training_dataset = tf.data.Dataset.range(10).map(\n",
    "    lambda x: x + tf.random_uniform([], -10, 10, tf.int64))\n",
    "validation_dataset = tf.data.Dataset.range(5)\n",
    "\n",
    "# two dataset are compatible\n",
    "assert training_dataset.output_types == validation_dataset.output_types\n",
    "assert training_dataset.output_shapes == validation_dataset.output_shapes\n",
    "\n",
    "iterator = tf.data.Iterator.from_structure(training_dataset.output_types,\n",
    "                                           training_dataset.output_shapes)\n",
    "next_element = iterator.get_next()\n",
    "\n",
    "training_init_op = iterator.make_initializer(training_dataset)\n",
    "validation_init_op = iterator.make_initializer(validation_dataset)\n",
    "\n",
    "def loop_through_dataset(ds_name, n):\n",
    "        for _ in range(n):\n",
    "            print(ds_name, _, sess.run(next_element))\n",
    "\n",
    "with tf.Session() as sess:\n",
    "    for epoch in range(3):    \n",
    "        print(\"epoch\", epoch)\n",
    "        # training\n",
    "        sess.run(training_init_op)\n",
    "        loop_through_dataset(\"train\", 10)\n",
    "\n",
    "        # Validation\n",
    "        sess.run(validation_init_op)\n",
    "        loop_through_dataset(\"validation\", 5)\n"
   ]
  },
  {
   "cell_type": "code",
   "execution_count": 5,
   "metadata": {},
   "outputs": [],
   "source": [
    "import lzma\n",
    "import pickle\n",
    "with lzma.open(\"mnist.pkl.xz\", 'rb') as f:\n",
    "    train_set, validation_set, test_set = pickle.load(f, encoding='latin1')"
   ]
  },
  {
   "cell_type": "code",
   "execution_count": 6,
   "metadata": {},
   "outputs": [],
   "source": [
    "train_X, train_y = train_set\n",
    "validation_X, validation_y = validation_set\n",
    "test_X, test_y = test_set\n",
    "train_Y = np.eye(10)[train_y]\n",
    "test_Y = np.eye(10)[test_y]\n",
    "validation_Y = np.eye(10)[validation_y]"
   ]
  },
  {
   "cell_type": "code",
   "execution_count": 7,
   "metadata": {},
   "outputs": [
    {
     "data": {
      "image/png": "[encoded data removed]",
      "text/plain": [
       "<PIL.Image.Image image mode=L size=560x28 at 0x181C80F898>"
      ]
     },
     "metadata": {},
     "output_type": "display_data"
    },
    {
     "name": "stdout",
     "output_type": "stream",
     "text": [
      "[5 0 4 ... 8 4 8]\n"
     ]
    }
   ],
   "source": [
    "from IPython.display import display\n",
    "def showX(X):\n",
    "    int_X = (X*255).clip(0,255).astype('uint8')\n",
    "    # N*784 -> N*28*28 -> 28*N*28 -> 28 * 28N\n",
    "    int_X_reshape = int_X.reshape(-1,28,28).swapaxes(0,1).reshape(28,-1)\n",
    "    display(Image.fromarray(int_X_reshape))\n",
    "# 訓練資料， X 的前 20 筆\n",
    "showX(train_X[:20])\n",
    "print(train_y)"
   ]
  },
  {
   "cell_type": "markdown",
   "metadata": {},
   "source": [
    "## 開始 Tensorflow"
   ]
  },
  {
   "cell_type": "code",
   "execution_count": null,
   "metadata": {},
   "outputs": [],
   "source": [
    "import tensorflow as tf\n",
    "from tfdot import tfdot"
   ]
  },
  {
   "cell_type": "markdown",
   "metadata": {},
   "source": [
    "# Multilayer Convolutional Network"
   ]
  },
  {
   "cell_type": "code",
   "execution_count": null,
   "metadata": {},
   "outputs": [],
   "source": [
    "# 使用 gfile 來讀檔\n",
    "from tensorflow.python.platform import gfile\n",
    "# 讀入 graph_def\n",
    "with gfile.FastGFile(\"mnist_simple.pb\",'rb') as f:\n",
    "    graph_def = tf.GraphDef()\n",
    "    x = f.read()\n",
    "    #print(x)\n",
    "    graph_def.ParseFromString(x)"
   ]
  },
  {
   "cell_type": "code",
   "execution_count": null,
   "metadata": {},
   "outputs": [],
   "source": [
    "# 使用之前存下來的模型\n",
    "X, Y_, prediction, accuracy, train_step, keep_prob, init_op= tf.import_graph_def(graph_def, name=\"\", \n",
    "        return_elements=[\"X:0\", \"Y_:0\", \"prediction:0\", \n",
    "                         \"accuracy:0\", \"Adam\", 'dropout/keep_prob:0', \"init\"])"
   ]
  },
  {
   "cell_type": "code",
   "execution_count": null,
   "metadata": {},
   "outputs": [],
   "source": [
    "sess = tf.InteractiveSession()\n",
    "init_op.run()\n",
    "tf.summary.scalar(accuracy.op.name, accuracy)\n",
    "summary_op = tf.summary.merge_all()\n",
    "summary_writer = tf.summary.FileWriter(\"log1\", graph=sess.graph)"
   ]
  },
  {
   "cell_type": "code",
   "execution_count": null,
   "metadata": {},
   "outputs": [],
   "source": [
    "for i in range(5000):\n",
    "    rnd_idx = np.random.choice(train_X.shape[0], 50, replace=False)\n",
    "    if i%250 == 0:       \n",
    "        summary_str, validation_accuracy = sess.run([summary_op, accuracy],\n",
    "                        {X: validation_X[:1000], \n",
    "                                       Y_: validation_Y[:1000], \n",
    "                                       keep_prob: 1.0 })\n",
    "        summary_writer.add_summary(summary_str, i)\n",
    "        print(\"step %d, validation accuracy: %g\"%(i, validation_accuracy))\n",
    "    train_step.run({X: train_X[rnd_idx], Y_: train_Y[rnd_idx], keep_prob: 0.5 })"
   ]
  },
  {
   "cell_type": "code",
   "execution_count": null,
   "metadata": {},
   "outputs": [],
   "source": [
    "summary_writer.close()\n",
    "sess.close()"
   ]
  },
  {
   "cell_type": "markdown",
   "metadata": {},
   "source": [
    "run `tensorboard --logdir=log1` in terminal and open http://localhost:6006\n",
    "\n"
   ]
  },
  {
   "cell_type": "code",
   "execution_count": null,
   "metadata": {},
   "outputs": [],
   "source": [
    "!tensorboard --logdir=log1"
   ]
  },
  {
   "cell_type": "markdown",
   "metadata": {},
   "source": [
    "### 同時紀錄三種準確度"
   ]
  },
  {
   "cell_type": "code",
   "execution_count": null,
   "metadata": {},
   "outputs": [],
   "source": [
    "sess = tf.InteractiveSession()\n",
    "init_op.run()\n",
    "acc_summary = tf.summary.scalar(\"accuracy\", accuracy)\n",
    "training_summary_writer = tf.summary.FileWriter(\"log2/training\", graph=sess.graph)\n",
    "validation_summary_writer = tf.summary.FileWriter(\"log2/validation\", graph=sess.graph)\n",
    "testing_summary_writer = tf.summary.FileWriter(\"log2/testing\", graph=sess.graph)\n"
   ]
  },
  {
   "cell_type": "code",
   "execution_count": null,
   "metadata": {},
   "outputs": [],
   "source": [
    "for i in range(5000):\n",
    "    rnd_idx = np.random.choice(train_X.shape[0], 50, replace=False)\n",
    "    if i%50 == 0:       \n",
    "        summary_str, training_acc = sess.run([acc_summary, accuracy],\n",
    "                        {X: train_X[:1000], Y_: train_Y[:1000], keep_prob: 1.0 })\n",
    "        training_summary_writer.add_summary(summary_str, i)\n",
    "        summary_str, validation_acc = sess.run([acc_summary, accuracy],\n",
    "                        {X: validation_X[:1000], Y_: validation_Y[:1000], keep_prob: 1.0 })\n",
    "        validation_summary_writer.add_summary(summary_str, i)\n",
    "        summary_str, testing_acc = sess.run([acc_summary, accuracy],\n",
    "                        {X: test_X[:1000], Y_: test_Y[:1000], keep_prob: 1.0 })\n",
    "        testing_summary_writer.add_summary(summary_str, i)\n",
    "        if i%250==0:\n",
    "            print(\"step %d, train: %g, validation: %g, test: %g\"%(i, training_acc, \n",
    "                                                              validation_acc, testing_acc))\n",
    "    train_step.run({X: train_X[rnd_idx], Y_: train_Y[rnd_idx], keep_prob: 0.5 })"
   ]
  },
  {
   "cell_type": "code",
   "execution_count": null,
   "metadata": {},
   "outputs": [],
   "source": [
    "testing_summary_writer.close()\n",
    "validation_summary_writer.close()\n",
    "training_summary_writer.close()\n",
    "sess.close()"
   ]
  },
  {
   "cell_type": "code",
   "execution_count": null,
   "metadata": {},
   "outputs": [],
   "source": [
    "!tensorboard --logdir=log2"
   ]
  }
 ],
 "metadata": {
  "kernelspec": {
   "display_name": "Python 3",
   "language": "python",
   "name": "python3"
  },
  "language_info": {
   "codemirror_mode": {
    "name": "ipython",
    "version": 3
   },
   "file_extension": ".py",
   "mimetype": "text/x-python",
   "name": "python",
   "nbconvert_exporter": "python",
   "pygments_lexer": "ipython3",
   "version": "3.6.5"
  }
 },
 "nbformat": 4,
 "nbformat_minor": 1
}
