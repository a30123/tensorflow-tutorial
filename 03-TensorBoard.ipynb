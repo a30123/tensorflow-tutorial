{
 "cells": [
  {
   "cell_type": "code",
   "execution_count": null,
   "metadata": {
    "collapsed": true
   },
   "outputs": [],
   "source": [
    "from PIL import Image\n",
    "import numpy as np"
   ]
  },
  {
   "cell_type": "code",
   "execution_count": null,
   "metadata": {
    "collapsed": true
   },
   "outputs": [],
   "source": [
    "import lzma\n",
    "import pickle\n",
    "with lzma.open(\"mnist.pkl.xz\", 'rb') as f:\n",
    "    train_set, validation_set, test_set = pickle.load(f, encoding='latin1')"
   ]
  },
  {
   "cell_type": "code",
   "execution_count": null,
   "metadata": {
    "collapsed": true
   },
   "outputs": [],
   "source": [
    "train_X, train_y = train_set\n",
    "validation_X, validation_y = validation_set\n",
    "test_X, test_y = test_set\n",
    "train_Y = np.eye(10)[train_y]\n",
    "test_Y = np.eye(10)[test_y]\n",
    "validation_Y = np.eye(10)[validation_y]"
   ]
  },
  {
   "cell_type": "code",
   "execution_count": null,
   "metadata": {
    "collapsed": true
   },
   "outputs": [],
   "source": [
    "from IPython.display import display\n",
    "def showX(X):\n",
    "    int_X = (X*255).clip(0,255).astype('uint8')\n",
    "    # N*784 -> N*28*28 -> 28*N*28 -> 28 * 28N\n",
    "    int_X_reshape = int_X.reshape(-1,28,28).swapaxes(0,1).reshape(28,-1)\n",
    "    display(Image.fromarray(int_X_reshape))\n",
    "# 訓練資料， X 的前 20 筆\n",
    "showX(train_X[:20])\n",
    "print(train_y)"
   ]
  },
  {
   "cell_type": "markdown",
   "metadata": {},
   "source": [
    "## 開始 Tensorflow"
   ]
  },
  {
   "cell_type": "code",
   "execution_count": null,
   "metadata": {
    "collapsed": true
   },
   "outputs": [],
   "source": [
    "import tensorflow as tf\n",
    "from tfdot import tfdot"
   ]
  },
  {
   "cell_type": "markdown",
   "metadata": {},
   "source": [
    "# Multilayer Convolutional Network"
   ]
  },
  {
   "cell_type": "code",
   "execution_count": null,
   "metadata": {
    "collapsed": true
   },
   "outputs": [],
   "source": [
    "# 使用 gfile 來讀檔\n",
    "from tensorflow.python.platform import gfile\n",
    "# 讀入 graph_def\n",
    "with gfile.FastGFile(\"mnist_simple.pb\",'rb') as f:\n",
    "    graph_def = tf.GraphDef()\n",
    "    x = f.read()\n",
    "    #print(x)\n",
    "    graph_def.ParseFromString(x)"
   ]
  },
  {
   "cell_type": "code",
   "execution_count": null,
   "metadata": {
    "collapsed": true
   },
   "outputs": [],
   "source": [
    "# 使用之前存下來的模型\n",
    "X, Y_, prediction, accuracy, train_step, keep_prob, init_op= tf.import_graph_def(graph_def, name=\"\", \n",
    "        return_elements=[\"X:0\", \"Y_:0\", \"prediction:0\", \n",
    "                         \"accuracy:0\", \"Adam\", 'dropout/keep_prob:0', \"init\"])"
   ]
  },
  {
   "cell_type": "code",
   "execution_count": null,
   "metadata": {
    "collapsed": true
   },
   "outputs": [],
   "source": [
    "sess = tf.InteractiveSession()\n",
    "init_op.run()\n",
    "tf.summary.scalar(accuracy.op.name, accuracy)\n",
    "summary_op = tf.summary.merge_all()\n",
    "summary_writer = tf.summary.FileWriter(\"log1\", graph=sess.graph)"
   ]
  },
  {
   "cell_type": "code",
   "execution_count": null,
   "metadata": {
    "collapsed": true
   },
   "outputs": [],
   "source": [
    "for i in range(5000):\n",
    "    rnd_idx = np.random.choice(train_X.shape[0], 50, replace=False)\n",
    "    if i%250 == 0:       \n",
    "        summary_str, validation_accuracy = sess.run([summary_op, accuracy],\n",
    "                        {X: validation_X[:1000], \n",
    "                                       Y_: validation_Y[:1000], \n",
    "                                       keep_prob: 1.0 })\n",
    "        summary_writer.add_summary(summary_str, i)\n",
    "        print(\"step %d, validation accuracy: %g\"%(i, validation_accuracy))\n",
    "    train_step.run({X: train_X[rnd_idx], Y_: train_Y[rnd_idx], keep_prob: 0.5 })"
   ]
  },
  {
   "cell_type": "code",
   "execution_count": null,
   "metadata": {
    "collapsed": true
   },
   "outputs": [],
   "source": [
    "summary_writer.close()\n",
    "sess.close()"
   ]
  },
  {
   "cell_type": "markdown",
   "metadata": {},
   "source": [
    "run `tensorboard --logdir=log1` in terminal and open http://localhost:6006\n",
    "\n"
   ]
  },
  {
   "cell_type": "code",
   "execution_count": null,
   "metadata": {
    "collapsed": true
   },
   "outputs": [],
   "source": [
    "!tensorboard --logdir=log1"
   ]
  },
  {
   "cell_type": "markdown",
   "metadata": {},
   "source": [
    "### 同時紀錄三種準確度"
   ]
  },
  {
   "cell_type": "code",
   "execution_count": null,
   "metadata": {
    "collapsed": true
   },
   "outputs": [],
   "source": [
    "sess = tf.InteractiveSession()\n",
    "init_op.run()\n",
    "acc_summary = tf.summary.scalar(\"accuracy\", accuracy)\n",
    "training_summary_writer = tf.summary.FileWriter(\"log2/training\", graph=sess.graph)\n",
    "validation_summary_writer = tf.summary.FileWriter(\"log2/validation\", graph=sess.graph)\n",
    "testing_summary_writer = tf.summary.FileWriter(\"log2/testing\", graph=sess.graph)\n"
   ]
  },
  {
   "cell_type": "code",
   "execution_count": null,
   "metadata": {
    "collapsed": true
   },
   "outputs": [],
   "source": [
    "for i in range(5000):\n",
    "    rnd_idx = np.random.choice(train_X.shape[0], 50, replace=False)\n",
    "    if i%50 == 0:       \n",
    "        summary_str, training_acc = sess.run([acc_summary, accuracy],\n",
    "                        {X: train_X[:1000], Y_: train_Y[:1000], keep_prob: 1.0 })\n",
    "        training_summary_writer.add_summary(summary_str, i)\n",
    "        summary_str, validation_acc = sess.run([acc_summary, accuracy],\n",
    "                        {X: validation_X[:1000], Y_: validation_Y[:1000], keep_prob: 1.0 })\n",
    "        validation_summary_writer.add_summary(summary_str, i)\n",
    "        summary_str, testing_acc = sess.run([acc_summary, accuracy],\n",
    "                        {X: test_X[:1000], Y_: test_Y[:1000], keep_prob: 1.0 })\n",
    "        testing_summary_writer.add_summary(summary_str, i)\n",
    "        if i%250==0:\n",
    "            print(\"step %d, train: %g, validation: %g, test: %g\"%(i, training_acc, \n",
    "                                                              validation_acc, testing_acc))\n",
    "    train_step.run({X: train_X[rnd_idx], Y_: train_Y[rnd_idx], keep_prob: 0.5 })"
   ]
  },
  {
   "cell_type": "code",
   "execution_count": null,
   "metadata": {
    "collapsed": true
   },
   "outputs": [],
   "source": [
    "testing_summary_writer.close()\n",
    "validation_summary_writer.close()\n",
    "training_summary_writer.close()\n",
    "sess.close()"
   ]
  },
  {
   "cell_type": "code",
   "execution_count": null,
   "metadata": {
    "collapsed": true
   },
   "outputs": [],
   "source": [
    "!tensorboard --logdir=log2"
   ]
  },
  {
   "cell_type": "markdown",
   "metadata": {},
   "source": [
    "## Image"
   ]
  },
  {
   "cell_type": "code",
   "execution_count": null,
   "metadata": {
    "collapsed": true
   },
   "outputs": [],
   "source": [
    "# accuracy\n",
    "accuracy = tf.Variable(0.2, name=\"xxx\")\n",
    "accuracy_ = tf.placeholder(\"float\")\n",
    "tf.summary.scalar(\"acc\", accuracy)\n",
    "update = tf.assign(accuracy, accuracy_)\n",
    "\n",
    "# image\n",
    "img_ = tf.placeholder(\"float\", shape=[None, 1080, 1920, 3])\n",
    "img = tf.Variable(tf.zeros([1, 1080,1920,3]))\n",
    "tf.summary.image(\"img\", img)\n",
    "update_img = tf.assign(img, img_)\n",
    "\n",
    "# merge all summary\n",
    "summary_op = tf.summary.merge_all()\n"
   ]
  },
  {
   "cell_type": "code",
   "execution_count": null,
   "metadata": {
    "collapsed": true
   },
   "outputs": [],
   "source": [
    "# rendering the image\n",
    "from math import pi, sin\n",
    "a = np.zeros((1080,1920,3))\n",
    "i_ = np.arange(1,64)\n",
    "c = np.random.uniform(size=(63,3))\n",
    "\n",
    "def color_arrows(t):\n",
    "    t_ = (i_*7.15+t)\n",
    "    x1 = (t_/3%1*1920).astype(np.int32)\n",
    "    y1 = (np.sin(t_)*500+500).astype(np.int32)\n",
    "    for i in range(63):\n",
    "        a[y1[i]:y1[i]+80, x1[i]:x1[i]+80] = c[i]\n",
    "    return a"
   ]
  },
  {
   "cell_type": "code",
   "execution_count": null,
   "metadata": {
    "collapsed": true
   },
   "outputs": [],
   "source": [
    "# tensorflow session\n",
    "with tf.Session() as sess:\n",
    "    with  tf.summary.FileWriter(\"log3\", graph=sess.graph) as summary_writer:\n",
    "        sess.run(tf.global_variables_initializer())\n",
    "        for i in range(100):\n",
    "            sess.run(update, feed_dict={accuracy_: i/100.0})\n",
    "            color_arrows(i/100)       \n",
    "            sess.run(update_img, feed_dict={img_: a[None, ...]})\n",
    "            summary_writer.add_summary(summary_op.eval(), i)"
   ]
  },
  {
   "cell_type": "code",
   "execution_count": null,
   "metadata": {
    "collapsed": true
   },
   "outputs": [],
   "source": [
    "!tensorboard --logdir=log3"
   ]
  }
 ],
 "metadata": {
  "kernelspec": {
   "display_name": "Python 3",
   "language": "python",
   "name": "python3"
  },
  "language_info": {
   "codemirror_mode": {
    "name": "ipython",
    "version": 3
   },
   "file_extension": ".py",
   "mimetype": "text/x-python",
   "name": "python",
   "nbconvert_exporter": "python",
   "pygments_lexer": "ipython3",
   "version": "3.6.2"
  }
 },
 "nbformat": 4,
 "nbformat_minor": 1
}
