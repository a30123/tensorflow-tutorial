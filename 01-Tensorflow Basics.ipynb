{
 "cells": [
  {
   "cell_type": "code",
   "execution_count": null,
   "metadata": {},
   "outputs": [],
   "source": [
    "# windows only hack for graphviz path \n",
    "import os\n",
    "for path in os.environ['PATH'].split(os.pathsep):\n",
    "    if path.endswith(\"Library\\\\bin\"):\n",
    "        os.environ['PATH']+=os.pathsep+os.path.join(path, 'graphviz')"
   ]
  },
  {
   "cell_type": "code",
   "execution_count": null,
   "metadata": {},
   "outputs": [],
   "source": [
    "import tensorflow as tf\n",
    "import numpy as np\n",
    "\n",
    "# 下面兩個是用來輔助圖形化\n",
    "from IPython.display import display\n",
    "from tfdot import tfdot"
   ]
  },
  {
   "cell_type": "markdown",
   "metadata": {},
   "source": [
    "## 常數及節點"
   ]
  },
  {
   "cell_type": "code",
   "execution_count": null,
   "metadata": {},
   "outputs": [],
   "source": [
    "tf.constant(42)"
   ]
  },
  {
   "cell_type": "code",
   "execution_count": null,
   "metadata": {},
   "outputs": [],
   "source": [
    "tf.constant(42.)"
   ]
  },
  {
   "cell_type": "code",
   "execution_count": null,
   "metadata": {},
   "outputs": [],
   "source": [
    "tf.constant([42])"
   ]
  },
  {
   "cell_type": "code",
   "execution_count": null,
   "metadata": {},
   "outputs": [],
   "source": [
    "matrix1 = tf.constant([[3., 3.]])\n",
    "\n",
    "matrix2 = tf.constant([[2.],[2.]])\n",
    "\n",
    "matrix1, matrix2"
   ]
  },
  {
   "cell_type": "code",
   "execution_count": null,
   "metadata": {},
   "outputs": [],
   "source": [
    "product = tf.matmul(matrix1, matrix2)\n",
    "product"
   ]
  },
  {
   "cell_type": "code",
   "execution_count": null,
   "metadata": {},
   "outputs": [],
   "source": [
    "tfdot()"
   ]
  },
  {
   "cell_type": "markdown",
   "metadata": {},
   "source": [
    "這些東西的單位叫做 graph"
   ]
  },
  {
   "cell_type": "code",
   "execution_count": null,
   "metadata": {},
   "outputs": [],
   "source": [
    "graph = tf.get_default_graph()\n",
    "graph"
   ]
  },
  {
   "cell_type": "code",
   "execution_count": null,
   "metadata": {},
   "outputs": [],
   "source": [
    "product.graph"
   ]
  },
  {
   "cell_type": "code",
   "execution_count": null,
   "metadata": {},
   "outputs": [],
   "source": [
    "# 從 graph 得到 tensor\n",
    "graph.get_tensor_by_name('MatMul:0')"
   ]
  },
  {
   "cell_type": "markdown",
   "metadata": {},
   "source": [
    "## Q:\n",
    "試試看其他名稱"
   ]
  },
  {
   "cell_type": "markdown",
   "metadata": {},
   "source": [
    "### Operator"
   ]
  },
  {
   "cell_type": "code",
   "execution_count": null,
   "metadata": {},
   "outputs": [],
   "source": [
    "graph.get_operations()"
   ]
  },
  {
   "cell_type": "code",
   "execution_count": null,
   "metadata": {},
   "outputs": [],
   "source": [
    "product.op"
   ]
  },
  {
   "cell_type": "code",
   "execution_count": null,
   "metadata": {},
   "outputs": [],
   "source": [
    "# 運算的輸出節點\n",
    "product.op.outputs"
   ]
  },
  {
   "cell_type": "code",
   "execution_count": null,
   "metadata": {},
   "outputs": [],
   "source": [
    "# 運算的輸入節點\n",
    "list(product.op.inputs)"
   ]
  },
  {
   "cell_type": "markdown",
   "metadata": {},
   "source": [
    "## Q\n",
    "* 試試看將 numpy ndarray 轉成 tf.constant\n",
    "* 建立一個 matrix1 和 matrix2 逐項相乘的節點(猜一下是 tf.什麼)\n",
    "* 用 `tf.reset_default_graph()` 清掉 default graph 看看，會發生什麼事情？\n",
    "* 再跑一下 tfdot 看看"
   ]
  },
  {
   "cell_type": "code",
   "execution_count": null,
   "metadata": {},
   "outputs": [],
   "source": [
    "# 建立逐項相乘的參考方式\n",
    "# %load q_constant_mul.py"
   ]
  },
  {
   "cell_type": "markdown",
   "metadata": {},
   "source": [
    "## Session\n",
    "\n",
    "如果圖是靜態的描述操作，動態的狀態就是 Session"
   ]
  },
  {
   "cell_type": "code",
   "execution_count": null,
   "metadata": {},
   "outputs": [],
   "source": [
    "# 建立一個 Session\n",
    "sess = tf.Session()\n",
    "# 在這個 Session 中執行 product 並且印出結果。\n",
    "print(sess.run(product))\n",
    "# 結束這個 Session\n",
    "sess.close()"
   ]
  },
  {
   "cell_type": "markdown",
   "metadata": {},
   "source": [
    "### 也可以用 context manager 的寫法"
   ]
  },
  {
   "cell_type": "code",
   "execution_count": null,
   "metadata": {
    "scrolled": true
   },
   "outputs": [],
   "source": [
    "with tf.Session() as sess:\n",
    "    print(sess.run(product))\n",
    "    # 也可以用\n",
    "    print(product.eval())"
   ]
  },
  {
   "cell_type": "markdown",
   "metadata": {},
   "source": [
    "## Q\n",
    "* 用 numpy 檢查結果\n",
    "* 把前面所有的 operation 都跑一遍"
   ]
  },
  {
   "cell_type": "code",
   "execution_count": null,
   "metadata": {},
   "outputs": [],
   "source": [
    "# 計算所有結果\n",
    "%run -i q_run_all_op.py"
   ]
  },
  {
   "cell_type": "markdown",
   "metadata": {},
   "source": [
    "### Device context \n",
    "可以設定 device context"
   ]
  },
  {
   "cell_type": "code",
   "execution_count": null,
   "metadata": {},
   "outputs": [],
   "source": [
    "with tf.Session() as sess:\n",
    "    with tf.device(\"/cpu:0\"):\n",
    "        print(sess.run(product))"
   ]
  },
  {
   "cell_type": "markdown",
   "metadata": {},
   "source": [
    "## Q\n",
    "清掉前面的 default graph， 然後用不同的方式來計算 $1+2+\\cdots+10$\n",
    "\n",
    "* 用公式 $10\\cdot(10+1)/2$\n",
    "* 用 `tf.reduce_sum`\n",
    "* 用 `tf.add_n`\n",
    "* 用 `tf.matmul`\n",
    "* 用 python 迴圈建立 graph\n"
   ]
  },
  {
   "cell_type": "code",
   "execution_count": null,
   "metadata": {
    "scrolled": false
   },
   "outputs": [],
   "source": [
    "# 參考答案\n",
    "%run -i q_sum.py"
   ]
  },
  {
   "cell_type": "markdown",
   "metadata": {},
   "source": [
    "### Interactive session\n",
    "在 notebook 中，可以用 interactive session， 就不用特別指名 session 了。 比較方便。"
   ]
  },
  {
   "cell_type": "code",
   "execution_count": null,
   "metadata": {},
   "outputs": [],
   "source": [
    "# 重新設定環境\n",
    "tf.reset_default_graph()\n",
    "# 設定 default session\n",
    "sess =  tf.InteractiveSession()"
   ]
  },
  {
   "cell_type": "markdown",
   "metadata": {},
   "source": [
    "常數太無聊， 試試看可以改變輸入的運算"
   ]
  },
  {
   "cell_type": "code",
   "execution_count": null,
   "metadata": {},
   "outputs": [],
   "source": [
    "# place holder, 先佔位子\n",
    "a = tf.placeholder(tf.float32, name=\"this_is_a\")\n",
    "b = tf.placeholder(tf.float32, name=\"this_is_b\")\n",
    "s = tf.add(a, b)\n",
    "display(tfdot())\n",
    "s"
   ]
  },
  {
   "cell_type": "markdown",
   "metadata": {},
   "source": [
    "直接執行\n",
    "```python\n",
    "s.eval()\n",
    "```\n",
    "會爆掉，因為佔了位子沒人來\n",
    "\n",
    "所以要放東西進去"
   ]
  },
  {
   "cell_type": "code",
   "execution_count": null,
   "metadata": {},
   "outputs": [],
   "source": [
    "s.eval({a:2, b: 5})"
   ]
  },
  {
   "cell_type": "markdown",
   "metadata": {},
   "source": [
    "或者"
   ]
  },
  {
   "cell_type": "code",
   "execution_count": null,
   "metadata": {},
   "outputs": [],
   "source": [
    "sess.run(s, {a:[1,2], b:[3,4]})"
   ]
  },
  {
   "cell_type": "code",
   "execution_count": null,
   "metadata": {},
   "outputs": [],
   "source": [
    "sess.close()"
   ]
  },
  {
   "cell_type": "markdown",
   "metadata": {},
   "source": [
    "## Variable\n",
    "傳遞資訊不是免費的\n",
    "\n",
    "變數：存東西在 session 的空間\n"
   ]
  },
  {
   "cell_type": "code",
   "execution_count": null,
   "metadata": {},
   "outputs": [],
   "source": [
    "# 重新設定 graph 環境和 default session\n",
    "tf.reset_default_graph()\n",
    "sess = tf.InteractiveSession()\n",
    "# 計數器\n",
    "state = tf.Variable(0, name=\"state\")\n",
    "\n",
    "# 新的節點 計數器+1\n",
    "new_value =  tf.add(state, tf.constant(1, name='one'), name='new_value')\n",
    "# 更新 state\n",
    "update = tf.assign(state, new_value)\n",
    "# 變數初始化，這也是一個節點\n",
    "init_op = tf.global_variables_initializer()\n",
    "tfdot()"
   ]
  },
  {
   "cell_type": "markdown",
   "metadata": {},
   "source": [
    "上面都是靜態的，下面才開始在 session 中執行"
   ]
  },
  {
   "cell_type": "code",
   "execution_count": null,
   "metadata": {},
   "outputs": [],
   "source": [
    "init_op.run()\n",
    "# or sess.run(init_op)\n",
    "print(state.eval())"
   ]
  },
  {
   "cell_type": "code",
   "execution_count": null,
   "metadata": {},
   "outputs": [],
   "source": [
    "for _ in range(300):\n",
    "    #執行更新\n",
    "    print(update.eval())"
   ]
  },
  {
   "cell_type": "code",
   "execution_count": null,
   "metadata": {},
   "outputs": [],
   "source": [
    "state.eval()"
   ]
  },
  {
   "cell_type": "code",
   "execution_count": null,
   "metadata": {},
   "outputs": [],
   "source": [
    "sess.run([update]*10)"
   ]
  },
  {
   "cell_type": "code",
   "execution_count": null,
   "metadata": {},
   "outputs": [],
   "source": [
    "sess.close()"
   ]
  },
  {
   "cell_type": "markdown",
   "metadata": {},
   "source": [
    "### Initialize from another variable"
   ]
  },
  {
   "cell_type": "code",
   "execution_count": null,
   "metadata": {},
   "outputs": [],
   "source": [
    "# 重設環境\n",
    "tf.reset_default_graph()\n",
    "sess = tf.InteractiveSession()\n",
    "\n",
    "# 第一個變數 weights\n",
    "weights = tf.Variable(tf.random_normal((10,), stddev=0.35), name='weights')\n",
    "# 想要讓 w2 的初始值設定成和 weights 一樣 \n",
    "w1 = tf.Variable(weights.initialized_value(), name ='w1')\n",
    "# 想將 w_twice 設定為 weights 的兩倍\n",
    "w2 = tf.Variable(weights.initialized_value()*tf.constant(2., name='two'), name=\"w2\")\n",
    "tfdot()"
   ]
  },
  {
   "cell_type": "code",
   "execution_count": null,
   "metadata": {},
   "outputs": [],
   "source": [
    "init_op = tf.global_variables_initializer()\n",
    "init_op.run()\n",
    "\n",
    "for v in tf.global_variables():\n",
    "    print(v.name, v)\n",
    "    print(v.eval())\n",
    "    "
   ]
  },
  {
   "cell_type": "code",
   "execution_count": null,
   "metadata": {},
   "outputs": [],
   "source": [
    "sess.close()"
   ]
  },
  {
   "cell_type": "markdown",
   "metadata": {},
   "source": [
    "### 流程控制\n",
    "https://www.tensorflow.org/api_guides/python/control_flow_ops\n",
    "\n",
    "## Q\n",
    "試著用 `tf.while_loop` 來計算 $1+2+\\cdots+10$\n",
    "(如何將結果放入一個 `tf.Variable` 中)"
   ]
  },
  {
   "cell_type": "markdown",
   "metadata": {},
   "source": [
    "## Higher Order Function\n",
    "\n",
    "https://www.tensorflow.org/api_guides/python/functional_ops\n",
    "\n",
    "## Q\n",
    "計算 $1+2+\\cdots+10$"
   ]
  },
  {
   "cell_type": "markdown",
   "metadata": {},
   "source": [
    "## Eager Executation\n",
    "\n",
    "https://www.tensorflow.org/programmers_guide/eager\n",
    "## Q\n",
    "\n",
    "* 計算 $1+2+\\cdots+10$\n",
    "* Project Euler 第一題 https://projecteuler.net/problem=1"
   ]
  }
 ],
 "metadata": {
  "kernelspec": {
   "display_name": "Python 3",
   "language": "python",
   "name": "python3"
  },
  "language_info": {
   "codemirror_mode": {
    "name": "ipython",
    "version": 3
   },
   "file_extension": ".py",
   "mimetype": "text/x-python",
   "name": "python",
   "nbconvert_exporter": "python",
   "pygments_lexer": "ipython3",
   "version": "3.6.5"
  }
 },
 "nbformat": 4,
 "nbformat_minor": 1
}
