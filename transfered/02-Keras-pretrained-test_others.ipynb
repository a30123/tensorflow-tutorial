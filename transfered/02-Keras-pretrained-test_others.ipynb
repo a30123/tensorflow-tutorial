{
 "cells": [
  {
   "cell_type": "code",
   "execution_count": null,
   "metadata": {
    "collapsed": true
   },
   "outputs": [],
   "source": [
    "# windows only hack for graphviz path \n",
    "import os\n",
    "for path in os.environ['PATH'].split(os.pathsep):\n",
    "    if path.endswith(\"Library\\\\bin\"):\n",
    "        os.environ['PATH']+=os.pathsep+os.path.join(path, 'graphviz')"
   ]
  },
  {
   "cell_type": "code",
   "execution_count": null,
   "metadata": {
    "collapsed": true
   },
   "outputs": [],
   "source": [
    "# 設定環境變數來控制 keras, theano\n",
    "os.environ['KERAS_BACKEND']=\"tensorflow\"\n",
    "#os.environ['THEANO_FLAGS']=\"floatX=float32, device=cuda\""
   ]
  },
  {
   "cell_type": "code",
   "execution_count": null,
   "metadata": {
    "collapsed": false
   },
   "outputs": [],
   "source": [
    "import keras\n",
    "from keras.models import Sequential\n",
    "from PIL import Image\n",
    "import numpy as np"
   ]
  },
  {
   "cell_type": "code",
   "execution_count": null,
   "metadata": {
    "collapsed": true
   },
   "outputs": [],
   "source": [
    "import keras.backend as K\n",
    "# 設定 channels_first 或 channels_last\n",
    "K.set_image_data_format('channels_last')"
   ]
  },
  {
   "cell_type": "code",
   "execution_count": null,
   "metadata": {
    "collapsed": false
   },
   "outputs": [],
   "source": [
    "pretrained = keras.applications.xception.Xception()"
   ]
  },
  {
   "cell_type": "code",
   "execution_count": null,
   "metadata": {
    "collapsed": false
   },
   "outputs": [],
   "source": [
    "from IPython.display import SVG, display\n",
    "from keras.utils.vis_utils import model_to_dot\n",
    "\n",
    "SVG(model_to_dot(pretrained, show_shapes=True).create(prog='dot', format='svg'))"
   ]
  },
  {
   "cell_type": "markdown",
   "metadata": {},
   "source": [
    "### 看一下 imagenet 的分類"
   ]
  },
  {
   "cell_type": "code",
   "execution_count": null,
   "metadata": {
    "collapsed": true
   },
   "outputs": [],
   "source": [
    "from keras.applications import imagenet_utils"
   ]
  },
  {
   "cell_type": "code",
   "execution_count": null,
   "metadata": {
    "collapsed": false
   },
   "outputs": [],
   "source": [
    "# 讀取圖片，使用 image.load_img\n",
    "from keras.preprocessing import image\n",
    "from glob import glob\n",
    "imgs = []\n",
    "files = list(glob('ILSVRC2012_img_val/ILSVRC2012_val_*.JPEG'))\n",
    "for fn in files:\n",
    "    img = image.load_img(fn, target_size=(299,299))    \n",
    "    imgs.append(np.array(img))\n",
    "imgs = np.array(imgs)"
   ]
  },
  {
   "cell_type": "code",
   "execution_count": null,
   "metadata": {
    "collapsed": false
   },
   "outputs": [],
   "source": [
    "# 使用 xception 的 preprocess\n",
    "from keras.applications.xception import preprocess_input\n",
    "p_imgs = preprocess_input(np.float32(imgs))\n",
    "del imgs"
   ]
  },
  {
   "cell_type": "code",
   "execution_count": null,
   "metadata": {
    "collapsed": false
   },
   "outputs": [],
   "source": [
    "# 如果 channel_first 可以調整\n",
    "#import numpy as np\n",
    "#p_imgs = np.moveaxis(p_imgs, 3, 1)"
   ]
  },
  {
   "cell_type": "code",
   "execution_count": null,
   "metadata": {
    "collapsed": false
   },
   "outputs": [],
   "source": [
    "# 實際\n",
    "predictions = pretrained.predict(p_imgs)"
   ]
  },
  {
   "cell_type": "code",
   "execution_count": null,
   "metadata": {
    "collapsed": false
   },
   "outputs": [],
   "source": [
    "# 對應編碼\n",
    "results = imagenet_utils.decode_predictions(predictions)"
   ]
  },
  {
   "cell_type": "code",
   "execution_count": null,
   "metadata": {
    "collapsed": false
   },
   "outputs": [],
   "source": [
    "from IPython.display import Image, HTML, display\n",
    "for fn, res in zip(files[:100], results[:100]):\n",
    "    res_text = \"\".join(\"<li>{:05.2f}% : {}</li>\".format(x[2]*100, x[1]) for x in res)\n",
    "    display(HTML(\"\"\"\n",
    "    <table><tr>\n",
    "    <td><img width=200 src=\"{}\" /></td>\n",
    "    <td><ul>{}</ul></td>\n",
    "    </tr>\n",
    "    </table>\n",
    "    \"\"\".format(fn, res_text)))    "
   ]
  }
 ],
 "metadata": {
  "kernelspec": {
   "display_name": "Python 3",
   "language": "python",
   "name": "python3"
  },
  "language_info": {
   "codemirror_mode": {
    "name": "ipython",
    "version": 3
   },
   "file_extension": ".py",
   "mimetype": "text/x-python",
   "name": "python",
   "nbconvert_exporter": "python",
   "pygments_lexer": "ipython3",
   "version": "3.5.3"
  }
 },
 "nbformat": 4,
 "nbformat_minor": 1
}
