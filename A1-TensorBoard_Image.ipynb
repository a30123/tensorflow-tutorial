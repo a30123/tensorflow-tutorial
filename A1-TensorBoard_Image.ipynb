{
 "cells": [
  {
   "cell_type": "code",
   "execution_count": 1,
   "metadata": {
    "collapsed": true
   },
   "outputs": [],
   "source": [
    "import tensorflow as tf\n",
    "import numpy as np"
   ]
  },
  {
   "cell_type": "code",
   "execution_count": 2,
   "metadata": {
    "collapsed": false
   },
   "outputs": [],
   "source": [
    "sess = tf.InteractiveSession()\n",
    "accuracy = tf.Variable(0.2, name=\"xxx\")\n",
    "accuracy_ = tf.placeholder(\"float\")\n",
    "img_ = tf.placeholder(\"float\", shape=[None, 1080, 1920, 3])\n",
    "img = tf.Variable(tf.zeros([1, 1080,1920,3]))\n",
    "tf.summary.scalar(\"acc\", accuracy)\n",
    "tf.summary.image(\"img\", img)\n",
    "summary_op = tf.merge_all_summaries()\n",
    "summary_writer = tf.summary.FileWriter(\"log_test\", graph=sess.graph)\n",
    "update = tf.assign(accuracy, accuracy_)\n",
    "update_img = tf.assign(img, img_)"
   ]
  },
  {
   "cell_type": "code",
   "execution_count": 3,
   "metadata": {
    "collapsed": false
   },
   "outputs": [],
   "source": [
    "tf.global_variables_initializer().run()"
   ]
  },
  {
   "cell_type": "code",
   "execution_count": 4,
   "metadata": {
    "collapsed": true
   },
   "outputs": [],
   "source": [
    "# copy from Week01 animation example\n",
    "from math import pi, sin\n",
    "a = np.zeros((1080,1920,3))\n",
    "i_ = np.arange(1,64)\n",
    "c = np.random.uniform(size=(63,3))\n",
    "\n",
    "def color_arrows(t):\n",
    "    t_ = (i_*7.15+t)\n",
    "    x1 = (t_/3%1*1920).astype(np.int32)\n",
    "    y1 = (np.sin(t_)*500+500).astype(np.int32)\n",
    "    for i in range(63):\n",
    "        a[y1[i]:y1[i]+80, x1[i]:x1[i]+80] = c[i]\n",
    "    return a"
   ]
  },
  {
   "cell_type": "code",
   "execution_count": 5,
   "metadata": {
    "collapsed": false
   },
   "outputs": [
    {
     "ename": "SyntaxError",
     "evalue": "invalid syntax (<ipython-input-5-8ccc3092d827>, line 5)",
     "output_type": "error",
     "traceback": [
      "\u001b[0;36m  File \u001b[0;32m\"<ipython-input-5-8ccc3092d827>\"\u001b[0;36m, line \u001b[0;32m5\u001b[0m\n\u001b[0;31m    update_img.eval(feed_dict={img_: a[None, ...]]})\u001b[0m\n\u001b[0m                                                 ^\u001b[0m\n\u001b[0;31mSyntaxError\u001b[0m\u001b[0;31m:\u001b[0m invalid syntax\n"
     ]
    }
   ],
   "source": [
    "for i in range(100):\n",
    "    update.eval(feed_dict={accuracy_: i/100.0})\n",
    "    color_arrows(i/100)\n",
    "    if i == 99:        \n",
    "        update_img.eval(feed_dict={img_: a[None, ...]})\n",
    "    summary_writer.add_summary(summary_op.eval(), i)"
   ]
  },
  {
   "cell_type": "code",
   "execution_count": null,
   "metadata": {
    "collapsed": false
   },
   "outputs": [],
   "source": [
    "summary_writer.close()\n",
    "sess.close()"
   ]
  },
  {
   "cell_type": "code",
   "execution_count": null,
   "metadata": {
    "collapsed": true
   },
   "outputs": [],
   "source": []
  }
 ],
 "metadata": {
  "kernelspec": {
   "display_name": "Python 3",
   "language": "python",
   "name": "python3"
  },
  "language_info": {
   "codemirror_mode": {
    "name": "ipython",
    "version": 3
   },
   "file_extension": ".py",
   "mimetype": "text/x-python",
   "name": "python",
   "nbconvert_exporter": "python",
   "pygments_lexer": "ipython3",
   "version": "3.5.2+"
  }
 },
 "nbformat": 4,
 "nbformat_minor": 0
}
