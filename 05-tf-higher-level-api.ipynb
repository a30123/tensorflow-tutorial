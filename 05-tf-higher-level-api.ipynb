{
 "cells": [
  {
   "cell_type": "markdown",
   "metadata": {},
   "source": [
    "# Using tf.layers"
   ]
  },
  {
   "cell_type": "code",
   "execution_count": null,
   "metadata": {},
   "outputs": [],
   "source": [
    "from PIL import Image\n",
    "import numpy as np\n",
    "import tensorflow as tf"
   ]
  },
  {
   "cell_type": "markdown",
   "metadata": {},
   "source": [
    "## MNIST Dataset"
   ]
  },
  {
   "cell_type": "code",
   "execution_count": null,
   "metadata": {},
   "outputs": [],
   "source": [
    "import lzma\n",
    "import pickle\n",
    "with lzma.open(\"mnist.pkl.xz\", 'rb') as f:\n",
    "    train_set, validation_set, test_set = pickle.load(f, encoding='latin1')"
   ]
  },
  {
   "cell_type": "code",
   "execution_count": null,
   "metadata": {},
   "outputs": [],
   "source": [
    "train_X, train_y = train_set\n",
    "validation_X, validation_y = validation_set\n",
    "test_X, test_y = test_set\n",
    "train_Y = np.eye(10)[train_y]\n",
    "test_Y = np.eye(10)[test_y]\n",
    "validation_Y = np.eye(10)[validation_y]"
   ]
  },
  {
   "cell_type": "code",
   "execution_count": null,
   "metadata": {},
   "outputs": [],
   "source": [
    "from IPython.display import display\n",
    "def showX(X):\n",
    "    int_X = (X*255).clip(0,255).astype('uint8')\n",
    "    # N*784 -> N*28*28 -> 28*N*28 -> 28 * 28N\n",
    "    int_X_reshape = int_X.reshape(-1,28,28).swapaxes(0,1).reshape(28,-1)\n",
    "    display(Image.fromarray(int_X_reshape))\n",
    "# 訓練資料， X 的前 20 筆\n",
    "showX(train_X[:20])\n",
    "print(train_y)"
   ]
  },
  {
   "cell_type": "markdown",
   "metadata": {},
   "source": [
    "### using dataset"
   ]
  },
  {
   "cell_type": "code",
   "execution_count": null,
   "metadata": {},
   "outputs": [],
   "source": [
    "training_data = tf.data.Dataset.from_tensor_slices((train_X, train_Y)).shuffle(buffer_size=10000).batch(40)\n",
    "validation_data = tf.data.Dataset.from_tensor_slices((validation_X, validation_Y)).batch(40)\n",
    "\n",
    "\n",
    "iterator = tf.data.Iterator.from_structure(training_data.output_types,\n",
    "                                           training_data.output_shapes)\n",
    "\n",
    "training_init_op = iterator.make_initializer(training_data)\n",
    "validation_init_op = iterator.make_initializer(validation_data)\n",
    "\n",
    "X, Y_ = iterator.get_next()"
   ]
  },
  {
   "cell_type": "code",
   "execution_count": null,
   "metadata": {},
   "outputs": [],
   "source": [
    "# 設定 cnn 的 layers\n",
    "\n",
    "X_image = tf.reshape(X, [-1, 28, 28, 1])\n",
    "\n",
    "# fisrt layer\n",
    "h_conv1 = tf.layers.conv2d(X_image, 32, 3, padding='same', activation=tf.nn.relu)\n",
    "h_pool1 = tf.layers.max_pooling2d(h_conv1, 2, 2)\n",
    "\n",
    "# second layer\n",
    "h_conv2 = tf.layers.conv2d(h_pool1, 64, 3, padding='same', activation=tf.nn.relu)\n",
    "h_pool2 = tf.layers.max_pooling2d(h_conv2, 2, 2)\n",
    "h_pool2_flat = tf.layers.flatten(h_pool2)\n",
    "\n",
    "# fully-connected layer\n",
    "h_fc = tf.layers.dense(h_pool2_flat, 1024, activation=tf.nn.relu, name='fc')\n",
    "\n",
    "# Dropout\n",
    "with tf.name_scope('dropout'):\n",
    "    keep_prob = tf.placeholder(\"float\", name=\"keep_prob\")\n",
    "    h_fc_drop = tf.nn.dropout(h_fc, keep_prob)\n",
    "\n",
    "# Readout\n",
    "Y = tf.layers.dense(h_fc_drop, 10, activation=tf.nn.relu, name='readout')\n",
    "\n",
    "cross_entropy =  tf.losses.softmax_cross_entropy(onehot_labels=Y_, logits=Y)\n",
    "train_step = tf.train.AdamOptimizer(1e-4).minimize(cross_entropy)\n",
    "prediction = tf.argmax(Y, 1, name=\"prediction\")\n",
    "correct_prediction = tf.equal(prediction, tf.argmax(Y_, 1), name=\"correction\")\n",
    "accuracy = tf.reduce_mean(tf.cast(correct_prediction, tf.float32), name=\"accuracy\")"
   ]
  },
  {
   "cell_type": "code",
   "execution_count": null,
   "metadata": {},
   "outputs": [],
   "source": [
    "import time\n",
    "sess = tf.Session()\n",
    "sess.run(tf.global_variables_initializer())\n",
    "t0 = time.time()\n",
    "for epoch in range(3):\n",
    "    sess.run(training_init_op)\n",
    "    while True:\n",
    "        try:\n",
    "            sess.run(train_step, {keep_prob: 0.5 })\n",
    "        except tf.errors.OutOfRangeError:\n",
    "            print(\"End of epoch\", epoch, \"time:\", time.time()-t0)\n",
    "            break\n",
    "    sess.run(validation_init_op)\n",
    "    validation_accuracy = np.mean([sess.run(accuracy,{keep_prob: 1.0 }) for i in range(10)])\n",
    "    print(\"Epoch %d, validation accuracy %g\"%(epoch, validation_accuracy))\n",
    "sess.close()"
   ]
  },
  {
   "cell_type": "code",
   "execution_count": null,
   "metadata": {},
   "outputs": [],
   "source": []
  }
 ],
 "metadata": {
  "kernelspec": {
   "display_name": "Python 3",
   "language": "python",
   "name": "python3"
  },
  "language_info": {
   "codemirror_mode": {
    "name": "ipython",
    "version": 3
   },
   "file_extension": ".py",
   "mimetype": "text/x-python",
   "name": "python",
   "nbconvert_exporter": "python",
   "pygments_lexer": "ipython3",
   "version": "3.6.5"
  }
 },
 "nbformat": 4,
 "nbformat_minor": 1
}
